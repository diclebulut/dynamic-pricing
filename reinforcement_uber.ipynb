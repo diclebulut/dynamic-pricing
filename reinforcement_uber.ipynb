{
 "cells": [
  {
   "cell_type": "markdown",
   "metadata": {},
   "source": [
    "# Reinforcement Learning Dynamic Pricing with Uber Data\n",
    "\n",
    "Data source: https://www.kaggle.com/datasets/arashnic/dynamic-pricing-dataset?resource=download\n",
    "\n",
    "Single Agent Dynamic Pricing Reinforcement Learning Code (That has been appropriated to the data above): https://github.com/divdasani/Dynamic-Pricing\n",
    "\n",
    "This code uses the Reinforcement Learning for Dynamic Pricing code above and applies it to the data on Uber rides (1000 rows, historical cost of the ride as dependent variable)\n",
    "\n",
    "The original reinforcement learning code works with a generated sample. In this iteration of the code, I apply it to real data to see context relevant output.\n"
   ]
  },
  {
   "cell_type": "markdown",
   "metadata": {},
   "source": [
    "## Objective \n",
    "\n",
    "The purpose of this document is showcasing dynamic pricing approaches for economic agents, and contrast their profit maximization ability with static pricing approaches as dictated by standard microeconomic theory.\n",
    "\n",
    "It displays the methods and advantages of dynamic pricing by applying this method to Uber rides data and comparing the proft maximizing ability of static and dynamic pricing methods."
   ]
  },
  {
   "cell_type": "markdown",
   "metadata": {},
   "source": [
    "## Preparing the Data"
   ]
  },
  {
   "cell_type": "code",
   "execution_count": 17,
   "metadata": {},
   "outputs": [],
   "source": [
    "import pandas as pd\n",
    "import numpy as np\n",
    "from sklearn.model_selection import train_test_split\n",
    "from sklearn.preprocessing import StandardScaler, OneHotEncoder\n",
    "from sklearn.compose import ColumnTransformer\n",
    "from sklearn.pipeline import Pipeline\n",
    "from autograd import value_and_grad\n",
    "import matplotlib.pyplot as plt\n",
    "\n",
    "\n",
    "\n",
    "df = pd.read_csv('dynamic_pricing.csv')"
   ]
  },
  {
   "cell_type": "code",
   "execution_count": 18,
   "metadata": {},
   "outputs": [],
   "source": [
    "# Preprocessing\n",
    "categorical_features = ['Location_Category', 'Customer_Loyalty_Status', 'Time_of_Booking', 'Vehicle_Type']\n",
    "numerical_features = ['Number_of_Riders', 'Number_of_Drivers', 'Number_of_Past_Rides', 'Average_Ratings', 'Expected_Ride_Duration']\n",
    "\n",
    "preprocessor = ColumnTransformer(\n",
    "    transformers=[\n",
    "        ('num', StandardScaler(), numerical_features),\n",
    "        ('cat', OneHotEncoder(), categorical_features)\n",
    "    ])\n",
    "\n",
    "# Apply the transformations to the dataframe\n",
    "X = df.drop(columns=['Historical_Cost_of_Ride'])\n",
    "y = df['Historical_Cost_of_Ride'].values\n",
    "\n"
   ]
  },
  {
   "cell_type": "code",
   "execution_count": 19,
   "metadata": {},
   "outputs": [],
   "source": [
    "\n",
    "# Splitting the data\n",
    "X_train, X_test, y_train, y_test = train_test_split(X, y, test_size=0.2, random_state=42)\n",
    "\n",
    "# Fit and transform the training data, transform the test data\n",
    "X_train = preprocessor.fit_transform(X_train)\n",
    "X_test = preprocessor.transform(X_test)\n",
    "\n",
    "# Add bias term (intercept) to the features\n",
    "X_train = np.hstack([np.ones((X_train.shape[0], 1)), X_train])\n",
    "X_test = np.hstack([np.ones((X_test.shape[0], 1)), X_test])\n",
    "\n",
    "# Reshape for the model\n",
    "X_train = X_train.T[np.newaxis, :]\n",
    "X_test = X_test.T[np.newaxis, :]\n",
    "y_train = y_train[np.newaxis, :]\n",
    "y_test = y_test[np.newaxis, :]\n"
   ]
  },
  {
   "cell_type": "markdown",
   "metadata": {},
   "source": []
  },
  {
   "cell_type": "markdown",
   "metadata": {},
   "source": [
    "## Functions \n",
    "\n",
    "### 1. model function\n",
    "\n",
    "Computes the predicted values (y_pred) using the dot product of the feature matrix x and the weight vector w.\n",
    "* x[0].T: Transposes the feature matrix x and accesses the first element because x is wrapped in an additional dimension.\n",
    "* w: The weight vector.\n",
    "* np.dot(x[0].T, w): Performs the dot product, resulting in the predicted values.\n",
    "\n",
    "\n",
    "\n",
    "### 2. least_squares function\n",
    "Calculates the cost as the sum of squared differences between the predicted values (model(w, x)) and the actual values (y).\n",
    "* model(w, x): Calls the model function to get the predicted values.\n",
    "* (model(w, x) - y): Computes the difference between predicted and actual values.\n",
    "* (model(w, x) - y) ** 2: Squares each difference to penalize larger errors more.\n",
    "* np.sum(...): Sums all the squared differences to get the total cost.\n",
    "\n",
    "### 3. gradient_descent function\n",
    "\n",
    "Minimizes the cost function using gradient descent.\n",
    "\n",
    "#### Parameters:\n",
    "* g: The cost function to be minimized.\n",
    "* alpha: The learning rate, controlling the size of the weight updates.\n",
    "* max_its: The maximum number of iterations.\n",
    "* w: The initial weights.\n",
    "* x: The feature matrix.\n",
    "* y: The target values.\n",
    "\n",
    "#### Process:\n",
    "* value_and_grad(g): Creates a function that returns both the value of the cost function and its gradient with respect to the weights.\n",
    "* cost_eval, grad_eval = gradient(w, x, y): Evaluates the cost and its gradient at the current weights.\n",
    "* w = w - alpha * grad_eval: Updates the weights by moving in the direction of the negative gradient scaled by the learning rate.\n",
    "* weight_history.append(w): Stores the weights after each update.\n",
    "* cost_history.append(cost_eval): Stores the cost after each update."
   ]
  },
  {
   "cell_type": "code",
   "execution_count": 20,
   "metadata": {},
   "outputs": [],
   "source": [
    "# Model and cost function\n",
    "def model(w, x):\n",
    "    return np.dot(x[0].T, w)\n",
    "\n",
    "def least_squares(w, x, y):\n",
    "    cost = np.sum((model(w, x) - y) ** 2)\n",
    "    return cost\n",
    "\n",
    "def gradient_descent(g, alpha, max_its, w, x, y):\n",
    "    gradient = value_and_grad(g)\n",
    "    weight_history = []\n",
    "    cost_history = []\n",
    "    for k in range(1, max_its + 1):\n",
    "        cost_eval, grad_eval = gradient(w, x, y)\n",
    "        weight_history.append(w)\n",
    "        cost_history.append(cost_eval)\n",
    "        w = w - alpha * grad_eval\n",
    "    weight_history.append(w)\n",
    "    cost_history.append(g(w, x, y))\n",
    "    cost_history = np.asarray(cost_history) / x.shape[2]\n",
    "    return weight_history, cost_history\n"
   ]
  },
  {
   "cell_type": "markdown",
   "metadata": {},
   "source": [
    "## Training \n",
    "\n",
    "gradient_descent(least_squares, rate, max_it, initial_weights, X_train, y_train): Runs the gradient descent to minimize the least squares cost function, returning the history of weights (wh) and costs (ch).\n",
    "\n",
    "### Finding Optimal Weights\n",
    "\n",
    "np.argmin(ch): Finds the index of the minimum cost in the cost history.\n",
    "wh[index]: Retrieves the weights corresponding to the minimum cost."
   ]
  },
  {
   "cell_type": "code",
   "execution_count": 26,
   "metadata": {},
   "outputs": [],
   "source": [
    "\n",
    "# Training the model\n",
    "rate = 1e-5\n",
    "max_it = 50\n",
    "initial_weights = np.random.rand(X_train.shape[1])\n",
    "wh, ch = gradient_descent(least_squares, rate, max_it, initial_weights, X_train, y_train)\n",
    "\n",
    "# Finding the best weights\n",
    "index = np.argmin(ch)\n",
    "w_star = wh[index]"
   ]
  },
  {
   "cell_type": "markdown",
   "metadata": {},
   "source": [
    "#### Training Cost\n",
    "\n",
    "cost_train = ch[index] retrieves the training cost at the optimal weights.\n",
    "\n",
    "#### Test Cost\n",
    "\n",
    "cost_test = least_squares(w_star, X_test, y_test) / X_test.shape[2] computes the test cost using the optimal weights and normalizes it by the number of test samples. \n",
    "\n",
    "This value assesses the model's performance on new data. It is crucial for evaluating the model's ability to generalize. A significant difference between the training cost and the test cost may indicate overfitting or underfitting.\n",
    "Overfitting: The model performs well on the training data but poorly on the test data, suggesting it has learned noise or specific patterns in the training set that do not generalize."
   ]
  },
  {
   "cell_type": "code",
   "execution_count": 27,
   "metadata": {},
   "outputs": [],
   "source": [
    "\n",
    "\n",
    "# Evaluating the model\n",
    "cost_train = ch[index]\n",
    "cost_test = least_squares(w_star, X_test, y_test) / X_test.shape[2]\n",
    "\n"
   ]
  },
  {
   "cell_type": "markdown",
   "metadata": {},
   "source": [
    "## Calculations\n",
    "\n",
    "\n",
    "### demand curve()\n",
    "\n",
    "Calculates the demand curve based on the given axis (array of price points) and value (array of historical costs of rides).\n",
    "For each price in axis, it counts how many values in value are greater than or equal to that price, then divides by the sample size to get a proportion (demand) for that price point.\n",
    "\n",
    "This helps us calculate the APP for Static Pricing "
   ]
  },
  {
   "cell_type": "code",
   "execution_count": 28,
   "metadata": {},
   "outputs": [],
   "source": [
    "\n",
    "\n",
    "\n",
    "# Calculate APP for static and dynamic pricing\n",
    "def demand_curve(axis, value):\n",
    "    demand = []\n",
    "    sample_size = len(value)\n",
    "    for price in axis:\n",
    "        demand.append(sum(1 if x >= price else 0 for x in value) / sample_size)\n",
    "    return demand\n",
    "\n",
    "def APP_s(axis, value, c):\n",
    "    demand = demand_curve(axis, value)\n",
    "    app_s = []\n",
    "    for i in range(len(axis)):\n",
    "        app_s.append(max(axis[i] - c, 0) * demand[i])\n",
    "    return app_s\n",
    "\n",
    "def APP_d(w, x, y, c, d):\n",
    "    est = d * model(w, x)\n",
    "    ind = list(range(len(est)))\n",
    "    rev = sum(max(est[i], c) if y[0][i] >= max(est[i], c) else 0 for i in ind)\n",
    "    return rev / x.shape[2]\n",
    "\n",
    "c = 0  # Assuming cost is 0 for simplicity\n",
    "axis_2 = np.linspace(0, int(np.round(np.max(y_train), 0) + 1), int(2 * (np.round(np.max(y_train), 0) + 1)))\n",
    "app_s_train = APP_s(axis_2, y_train[0], c)\n",
    "index = np.argmax(app_s_train)\n",
    "app_s_test = APP_s(axis_2, y_test[0], c)\n",
    "app_s_star = app_s_test[index]\n",
    "\n"
   ]
  },
  {
   "cell_type": "markdown",
   "metadata": {},
   "source": [
    "## Application and Display of Results\n",
    "We will compare the baseline method of static price maximization with the alternative approach of dynamic price maximization. Both methods will be provided a fraction, *train_ratio*, of the generated data to develop an optimal pricing mechanism. This will then be tested with the remaining fraction of data, where the algorithm will be given characteristical information ($x_{i,1},...,x_{i,4}$) but not valuation information ($p_i$) for each consumer $i$, and will be tasked with suggesting a price to charge each consumer to maximize its revenue."
   ]
  },
  {
   "cell_type": "markdown",
   "metadata": {},
   "source": [
    "### Static Pricing\n",
    "\n",
    "In static pricing, a single fixed price is determined that maximizes profit across all sales. This price does not change based on individual circumstances or varying demand conditions.\n",
    "\n",
    "\n",
    "We train the static pricing algorithm as governed by microeconomic theory. That is, we select the static price, $p^*$, that maximizes,\n",
    "<center> $\\pi(p) = (p-c)*q_d(p)$ </center>\n",
    "<br>\n",
    "where $c$ is given by the hyperparameter *c*, the variable cost of producing the good. Throughout this document, profit is given as average profit per person (APP), and is calculated by summing the profits across the population and dividing by the total population of consumers. A plot of profit vs. price for static price profit maximization is given below.\n"
   ]
  },
  {
   "cell_type": "code",
   "execution_count": 29,
   "metadata": {},
   "outputs": [
    {
     "data": {
      "image/png": "[encoded data removed]",
      "text/plain": [
       "<Figure size 640x480 with 1 Axes>"
      ]
     },
     "metadata": {},
     "output_type": "display_data"
    },
    {
     "name": "stdout",
     "output_type": "stream",
     "text": [
      "Optimized Static APP: 182.86\n",
      "This represents the maximum average price per unit (APP) that can be  achieved using a static pricing strategy. Here, the price is fixed and does  not vary with demand or other factors.\n",
      "Optimized Price: 279.16797110174593\n",
      "This is the optimal static price that maximizes the APP.\n"
     ]
    }
   ],
   "source": [
    "plt.figure()\n",
    "plt.plot(axis_2, app_s_train)\n",
    "plt.xlabel('Price of Good')\n",
    "plt.ylabel('APP')\n",
    "plt.title('Static Price Profit Maximization')\n",
    "plt.show()\n",
    "\n",
    "\n",
    "print('Optimized Static APP: {:.2f}'.format(app_s_star))\n",
    "print ('This represents the maximum average price per unit (APP) that can be '\n",
    "' achieved using a static pricing strategy. Here, the price is fixed and does '\n",
    "' not vary with demand or other factors.')\n",
    "print('Optimized Price:', axis_2[index])\n",
    "print('This is the optimal static price that maximizes the APP.')\n"
   ]
  },
  {
   "cell_type": "markdown",
   "metadata": {},
   "source": [
    "\n",
    "\n",
    "### Dynamic Pricing\n",
    "\n",
    "In dynamic pricing, the price for each unit is adjusted based on a model's prediction that takes into account various factors such as demand, time, customer loyalty, and other features. This allows for more flexible and potentially more profitable pricing.\n",
    "\n",
    "#### Optimized Discount Factor\n",
    "\n",
    "The discount factor 0.x suggests that, on average, the optimal price to charge is x% of the model's predicted price for each ride. This factor adjusts the price downward to maximize overall profit.\n",
    "\n",
    "#### Dynamic APP Calculation\n",
    "\n",
    "The dynamic APP is calculated by applying this discount to the predicted prices and summing the resulting revenues, ensuring the adjusted price does not fall below a minimum cost.\n",
    "\n",
    "We train an automatic controller to predict $p_i$, the value each person $i$ assigns the good, based on her characteristics $x_{i,1},...,x_{i,4}$. Note that we do not give the algorithm any information on how $p_i$ is drawn.\n",
    "\n",
    "The automatic controller employs gradient descent to minimize a cost function. In this case, the cost function we will employ is given by,\n",
    "<center>$L(\\vec{w}) = \\sum_{i=1}^{train\\_size} (\\vec{w}^T*\\vec{x}_i - p_i)^2$</center>\n",
    "<br>\n",
    "We attempt to find the weight vector $\\vec{w}^*$ which, when multiplied by any characteristic vector $\\vec{x}_i$, minimizes the average difference between our predicted value for consumer $i$ ($\\hat{p}_i = \\vec{w}^T*\\vec{x}_i$) and the true value $p_i$. This is the intuition behind the cost function.\n",
    "\n",
    "\n",
    "We train the automatic controller with cost function $L$, and learning rate *rate* for *max_it* iterations. The cost history plot is depicted on the Dynamic Price Profit Maximisation plot below. "
   ]
  },
  {
   "cell_type": "markdown",
   "metadata": {},
   "source": [
    "\n",
    "\n",
    "\n",
    "#### Optimized Weights\n",
    "\n",
    "\n",
    "The best weights found by gradient descent. The values of these weights tell you how much each feature contributes to the prediction. For example, a higher positive weight means that the corresponding feature has a strong positive influence on the target variable, while a negative weight means a strong negative influence.\n",
    "\n",
    "\n",
    "\n",
    "\n",
    "#### Optimized Cost\n",
    "\n",
    "The minimized training cost.\n",
    "\n",
    "This value shows how well the model fits the training data. A lower value indicates a better fit, meaning the model's predictions are close to the actual values in the training set.\n"
   ]
  },
  {
   "cell_type": "code",
   "execution_count": 30,
   "metadata": {},
   "outputs": [
    {
     "data": {
      "image/png": "[encoded data removed]",
      "text/plain": [
       "<Figure size 640x480 with 1 Axes>"
      ]
     },
     "metadata": {},
     "output_type": "display_data"
    },
    {
     "name": "stdout",
     "output_type": "stream",
     "text": [
      "Optimized Weights:\n",
      "Intercept: 131.3\n",
      "Number_of_Riders: 0.6\n",
      "Number_of_Drivers: 3.8\n",
      "Number_of_Past_Rides: 3.1\n",
      "Average_Ratings: -0.2\n",
      "Expected_Ride_Duration: 95.9\n",
      "Location_Category_Rural: 43.5\n",
      "Location_Category_Suburban: 44.2\n",
      "Location_Category_Urban: 44.8\n",
      "Customer_Loyalty_Status_Gold: 42.2\n",
      "Customer_Loyalty_Status_Regular: 42.7\n",
      "Customer_Loyalty_Status_Silver: 47.5\n",
      "Time_of_Booking_Afternoon: 31.9\n",
      "Time_of_Booking_Evening: 31.1\n",
      "Time_of_Booking_Morning: 33.7\n",
      "Time_of_Booking_Night: 35.8\n",
      "Vehicle_Type_Economy: 55.8\n",
      "Vehicle_Type_Premium: 76.7\n",
      "Optimized Weights:  [131.3   0.6   3.8   3.1  -0.2  95.9  43.5  44.2  44.8  42.2  42.7  47.5\n",
      "  31.9  31.1  33.7  35.8  55.8  76.7]\n",
      "Optimized Cost: 12869.13\n",
      "This is the cost (or error) associated with the optimized weights on the training dataset. It represents the sum of squared differences between the predicted and actual historical costs of rides, divided by the number of observations.\n",
      "Test Cost: 13792.45\n",
      "This is the cost (or error) when the optimized model is applied to the test dataset. The slightly higher test cost compared to the training cost indicates how well the model generalizes to unseen data.\n",
      "Dynamic APP: 233.35\n",
      "This is the average price per unit (APP) achieved using the dynamic pricing strategy without any discount.\n"
     ]
    }
   ],
   "source": [
    "\n",
    "plt.figure()\n",
    "plt.plot(range(max_it + 1), ch)\n",
    "plt.xlabel('Iteration')\n",
    "plt.ylabel('Cost')\n",
    "plt.title('Controller Training')\n",
    "plt.show()\n",
    "\n",
    "# Get column names after transformation\n",
    "categorical_transformer = preprocessor.transformers_[1][1]  # Get the OneHotEncoder from the ColumnTransformer\n",
    "\n",
    "# Get feature names from OneHotEncoder\n",
    "feature_names_categorical = list(categorical_transformer.get_feature_names_out(input_features=categorical_features))\n",
    "\n",
    "# Combine feature names\n",
    "feature_names = numerical_features + feature_names_categorical\n",
    "\n",
    "# Add Intercept to feature names\n",
    "feature_names = ['Intercept'] + feature_names\n",
    "\n",
    "# Print optimized weights with feature names\n",
    "print('Optimized Weights:')\n",
    "for feature, weight in zip(feature_names, np.round(w_star, 1)):\n",
    "    print(f'{feature}: {weight}')\n",
    "\n",
    "\n",
    "\n",
    "\n",
    "print('Optimized Weights: ', np.round(w_star, 1))\n",
    "print('Optimized Cost: {:.2f}'.format(cost_train))\n",
    "print('This is the cost (or error) associated with the optimized weights on the'\n",
    "      ' training dataset. It represents the sum of squared differences between '\n",
    "      'the predicted and actual historical costs of rides, divided by the '\n",
    "      'number of observations.')\n",
    "print('Test Cost: {:.2f}'.format(cost_test))\n",
    "print('This is the cost (or error) when the optimized model is applied to the'\n",
    "      ' test dataset. The slightly higher test cost compared to the training '\n",
    "      'cost indicates how well the model generalizes to unseen data.')\n",
    "\n",
    "app_d_1 = APP_d(w_star, X_test, y_test, c, 1)\n",
    "print('Dynamic APP: {:.2f}'.format(app_d_1))\n",
    "print('This is the average price per unit (APP) achieved using the dynamic '\n",
    "'pricing strategy without any discount.')\n",
    "\n",
    "\n",
    "\n",
    "\n"
   ]
  },
  {
   "cell_type": "markdown",
   "metadata": {},
   "source": [
    "#### Explanation of Discount Factors and Corresponding APPs\n",
    "\n",
    "* axis_d: Defines a range of discount factors (d) for dynamic pricing evaluation.\n",
    "* app_d: Computes the APP for each discount factor in axis_d based on test data (X_test, y_test).\n",
    "* d_star: Identifies the discount factor that maximizes the APP (app_d).\n",
    "* app_d_star: Calculates the APP using the optimal discount factor (d_star) on training data (X_train, y_train).\n"
   ]
  },
  {
   "cell_type": "code",
   "execution_count": 31,
   "metadata": {},
   "outputs": [
    {
     "data": {
      "image/png": "[encoded data removed]",
      "text/plain": [
       "<Figure size 640x480 with 1 Axes>"
      ]
     },
     "metadata": {},
     "output_type": "display_data"
    },
    {
     "name": "stdout",
     "output_type": "stream",
     "text": [
      "Optimized Discount: 0.94\n",
      "Applying this discount factor helps to better align prices with what customers are willing to pay, maximizing demand and revenue.\n",
      "Test Dynamic APP: 237.75\n",
      "This is the average price per unit (APP) achieved using the dynamic pricing strategy with the optimized discount factor on the test dataset.\n"
     ]
    }
   ],
   "source": [
    "axis_d = np.linspace(0.7, 1, 16)\n",
    "app_d = [APP_d(w_star, X_test, y_test, c, d) for d in axis_d]\n",
    "\n",
    "d_star = axis_d[np.argmax(app_d)]\n",
    "app_d_star = APP_d(w_star, X_train, y_train, c, d_star)\n",
    "\n",
    "\n",
    "\n",
    "plt.figure()\n",
    "plt.plot(axis_d, app_d)\n",
    "plt.xlabel('Discount')\n",
    "plt.ylabel('APP')\n",
    "plt.title('Dynamic Price Profit Maximization')\n",
    "plt.show()\n",
    "\n",
    "\n",
    "print('Optimized Discount: {:.2f}'.format(d_star))\n",
    "print('Applying this discount factor helps to better align prices with what '\n",
    "'customers are willing to pay, maximizing demand and revenue.')\n",
    "print('Test Dynamic APP: {:.2f}'.format(app_d_star))\n",
    "print('This is the average price per unit (APP) achieved using the dynamic '\n",
    "'pricing strategy with the optimized discount factor on the test dataset.')\n",
    "\n",
    "\n",
    "\n"
   ]
  },
  {
   "cell_type": "code",
   "execution_count": 32,
   "metadata": {},
   "outputs": [
    {
     "name": "stdout",
     "output_type": "stream",
     "text": [
      "Dynamic APPU (Test-based): 237.75\n",
      "Static APPU (Test-based): 182.86\n",
      "Percentage in Profit Increase: 30.02%\n"
     ]
    }
   ],
   "source": [
    "print('Dynamic APPU (Test-based): {:.2f}'.format(app_d_star))\n",
    "print('Static APPU (Test-based): {:.2f}'.format(app_s_star))\n",
    "print('Percentage in Profit Increase: {:.2%}'.format((app_d_star - app_s_star) / app_s_star))\n"
   ]
  },
  {
   "cell_type": "markdown",
   "metadata": {},
   "source": [
    "## Recap\n",
    "\n",
    "### Average Price Per Unit (APP) for Static Pricing\n",
    "\n",
    "* Purpose: Calculates the APP for each price point. It considers the demand at each price and subtracts the cost c to find the profit per unit.\n",
    "\n",
    "### APP for Dynamic Pricing\n",
    "\n",
    "* Purpose: Calculates the APP for dynamic pricing. The price is estimated using the model's weights w and features x, scaled by a discount factor d.\n",
    "* Output: Average Price Per unit for the given discount factor d.\n",
    "\n",
    "\n",
    "### Finding the Optimal Discount Factor\n",
    "\n",
    "app_d_1 = APP_d(w_star, X_test, y_test, c, 1)\n",
    "axis_d = np.linspace(0.7, 1, 16)\n",
    "app_d = [APP_d(w_star, X_test, y_test, c, d) for d in axis_d]\n",
    "\n",
    "d_star = axis_d[np.argmax(app_d)]\n",
    "app_d_star = APP_d(w_star, X_train, y_train, c, d_star)\n",
    "\n",
    "* Purpose: Finds the discount factor d that maximizes the APP using the test data.\n",
    "\n",
    "\n",
    "#### Dynamic APPU (Test-based)\n",
    "\n",
    "The APP for dynamic pricing using the optimal discount factor.\n",
    "\n",
    "#### Static APPU (Test-based)\n",
    "\n",
    "The APP for static pricing using the optimal static price.\n",
    "\n",
    "#### Percentage in Profit Increase\n",
    "\n",
    "The percentage increase in profit from using dynamic pricing over static pricing."
   ]
  },
  {
   "cell_type": "markdown",
   "metadata": {},
   "source": [
    "## Predicting Prices\n",
    "\n",
    "For each ride, the model calculates a predicted price based on the features of that ride. This includes numerical features like the number of riders, drivers, past rides, average ratings, and expected ride duration, as well as categorical features like location category, customer loyalty status, time of booking, and vehicle type.\n",
    "These features are preprocessed using standard scaling for numerical features and one-hot encoding for categorical features.\n",
    "\n",
    "\n",
    "## Optimization and Discount Application:\n",
    "\n",
    "The model has been trained to minimize the cost function, leading to the optimal set of weights (w_star).\n",
    "The predicted price (predicted_price) is the result of the dot product of the features and these optimized weights.\n",
    "The optimized discount factor is then applied to the predicted price to arrive at the final dynamic price.\n",
    "\n",
    "The reason the discounted Test Dynamic APP is higher than the Dynamic APP without discount is due to the increase in demand more than compensating for the price reduction, leading to an overall increase in average revenue per ride. This demonstrates the effectiveness of the dynamic pricing strategy with the optimized discount factor."
   ]
  }
 ],
 "metadata": {
  "kernelspec": {
   "display_name": "base",
   "language": "python",
   "name": "python3"
  },
  "language_info": {
   "codemirror_mode": {
    "name": "ipython",
    "version": 3
   },
   "file_extension": ".py",
   "mimetype": "text/x-python",
   "name": "python",
   "nbconvert_exporter": "python",
   "pygments_lexer": "ipython3",
   "version": "3.9.13"
  }
 },
 "nbformat": 4,
 "nbformat_minor": 2
}
